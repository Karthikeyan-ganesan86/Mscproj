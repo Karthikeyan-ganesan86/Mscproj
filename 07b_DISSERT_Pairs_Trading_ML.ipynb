{
  "nbformat": 4,
  "nbformat_minor": 0,
  "metadata": {
    "colab": {
      "provenance": [],
      "authorship_tag": "ABX9TyONxDkhKUiSEpgcf9cByFo0",
      "include_colab_link": true
    },
    "kernelspec": {
      "name": "python3",
      "display_name": "Python 3"
    },
    "language_info": {
      "name": "python"
    }
  },
  "cells": [
    {
      "cell_type": "markdown",
      "metadata": {
        "id": "view-in-github",
        "colab_type": "text"
      },
      "source": [
        "<a href=\"https://colab.research.google.com/github/Karthikeyan-ganesan86/Mscproj/blob/main/07b_DISSERT_Pairs_Trading_ML.ipynb\" target=\"_parent\"><img src=\"https://colab.research.google.com/assets/colab-badge.svg\" alt=\"Open In Colab\"/></a>"
      ]
    },
    {
      "cell_type": "markdown",
      "source": [
        "# PAIRS TRADING WITH MACHINE LEARNING MODEL"
      ],
      "metadata": {
        "id": "LIGOfP2ACVD6"
      }
    },
    {
      "cell_type": "code",
      "execution_count": null,
      "metadata": {
        "colab": {
          "base_uri": "https://localhost:8080/",
          "height": 255
        },
        "id": "p6fyoryEvYTw",
        "outputId": "483d5884-d5ad-4687-b4d5-4763e85399ad"
      },
      "outputs": [
        {
          "output_type": "stream",
          "name": "stdout",
          "text": [
            "[*********************100%%**********************]  2 of 2 completed\n"
          ]
        },
        {
          "output_type": "execute_result",
          "data": {
            "text/plain": [
              "                  GOOG        MSFT\n",
              "Date                              \n",
              "2022-01-03  145.074493  328.727661\n",
              "2022-01-04  144.416504  323.090942\n",
              "2022-01-05  137.653503  310.688171\n",
              "2022-01-06  137.550995  308.233154\n",
              "2022-01-07  137.004501  308.390259"
            ],
            "text/html": [
              "\n",
              "  <div id=\"df-dab8228c-3bdf-4458-af62-7d88186a521f\" class=\"colab-df-container\">\n",
              "    <div>\n",
              "<style scoped>\n",
              "    .dataframe tbody tr th:only-of-type {\n",
              "        vertical-align: middle;\n",
              "    }\n",
              "\n",
              "    .dataframe tbody tr th {\n",
              "        vertical-align: top;\n",
              "    }\n",
              "\n",
              "    .dataframe thead th {\n",
              "        text-align: right;\n",
              "    }\n",
              "</style>\n",
              "<table border=\"1\" class=\"dataframe\">\n",
              "  <thead>\n",
              "    <tr style=\"text-align: right;\">\n",
              "      <th></th>\n",
              "      <th>GOOG</th>\n",
              "      <th>MSFT</th>\n",
              "    </tr>\n",
              "    <tr>\n",
              "      <th>Date</th>\n",
              "      <th></th>\n",
              "      <th></th>\n",
              "    </tr>\n",
              "  </thead>\n",
              "  <tbody>\n",
              "    <tr>\n",
              "      <th>2022-01-03</th>\n",
              "      <td>145.074493</td>\n",
              "      <td>328.727661</td>\n",
              "    </tr>\n",
              "    <tr>\n",
              "      <th>2022-01-04</th>\n",
              "      <td>144.416504</td>\n",
              "      <td>323.090942</td>\n",
              "    </tr>\n",
              "    <tr>\n",
              "      <th>2022-01-05</th>\n",
              "      <td>137.653503</td>\n",
              "      <td>310.688171</td>\n",
              "    </tr>\n",
              "    <tr>\n",
              "      <th>2022-01-06</th>\n",
              "      <td>137.550995</td>\n",
              "      <td>308.233154</td>\n",
              "    </tr>\n",
              "    <tr>\n",
              "      <th>2022-01-07</th>\n",
              "      <td>137.004501</td>\n",
              "      <td>308.390259</td>\n",
              "    </tr>\n",
              "  </tbody>\n",
              "</table>\n",
              "</div>\n",
              "    <div class=\"colab-df-buttons\">\n",
              "\n",
              "  <div class=\"colab-df-container\">\n",
              "    <button class=\"colab-df-convert\" onclick=\"convertToInteractive('df-dab8228c-3bdf-4458-af62-7d88186a521f')\"\n",
              "            title=\"Convert this dataframe to an interactive table.\"\n",
              "            style=\"display:none;\">\n",
              "\n",
              "  <svg xmlns=\"http://www.w3.org/2000/svg\" height=\"24px\" viewBox=\"0 -960 960 960\">\n",
              "    <path d=\"M120-120v-720h720v720H120Zm60-500h600v-160H180v160Zm220 220h160v-160H400v160Zm0 220h160v-160H400v160ZM180-400h160v-160H180v160Zm440 0h160v-160H620v160ZM180-180h160v-160H180v160Zm440 0h160v-160H620v160Z\"/>\n",
              "  </svg>\n",
              "    </button>\n",
              "\n",
              "  <style>\n",
              "    .colab-df-container {\n",
              "      display:flex;\n",
              "      gap: 12px;\n",
              "    }\n",
              "\n",
              "    .colab-df-convert {\n",
              "      background-color: #E8F0FE;\n",
              "      border: none;\n",
              "      border-radius: 50%;\n",
              "      cursor: pointer;\n",
              "      display: none;\n",
              "      fill: #1967D2;\n",
              "      height: 32px;\n",
              "      padding: 0 0 0 0;\n",
              "      width: 32px;\n",
              "    }\n",
              "\n",
              "    .colab-df-convert:hover {\n",
              "      background-color: #E2EBFA;\n",
              "      box-shadow: 0px 1px 2px rgba(60, 64, 67, 0.3), 0px 1px 3px 1px rgba(60, 64, 67, 0.15);\n",
              "      fill: #174EA6;\n",
              "    }\n",
              "\n",
              "    .colab-df-buttons div {\n",
              "      margin-bottom: 4px;\n",
              "    }\n",
              "\n",
              "    [theme=dark] .colab-df-convert {\n",
              "      background-color: #3B4455;\n",
              "      fill: #D2E3FC;\n",
              "    }\n",
              "\n",
              "    [theme=dark] .colab-df-convert:hover {\n",
              "      background-color: #434B5C;\n",
              "      box-shadow: 0px 1px 3px 1px rgba(0, 0, 0, 0.15);\n",
              "      filter: drop-shadow(0px 1px 2px rgba(0, 0, 0, 0.3));\n",
              "      fill: #FFFFFF;\n",
              "    }\n",
              "  </style>\n",
              "\n",
              "    <script>\n",
              "      const buttonEl =\n",
              "        document.querySelector('#df-dab8228c-3bdf-4458-af62-7d88186a521f button.colab-df-convert');\n",
              "      buttonEl.style.display =\n",
              "        google.colab.kernel.accessAllowed ? 'block' : 'none';\n",
              "\n",
              "      async function convertToInteractive(key) {\n",
              "        const element = document.querySelector('#df-dab8228c-3bdf-4458-af62-7d88186a521f');\n",
              "        const dataTable =\n",
              "          await google.colab.kernel.invokeFunction('convertToInteractive',\n",
              "                                                    [key], {});\n",
              "        if (!dataTable) return;\n",
              "\n",
              "        const docLinkHtml = 'Like what you see? Visit the ' +\n",
              "          '<a target=\"_blank\" href=https://colab.research.google.com/notebooks/data_table.ipynb>data table notebook</a>'\n",
              "          + ' to learn more about interactive tables.';\n",
              "        element.innerHTML = '';\n",
              "        dataTable['output_type'] = 'display_data';\n",
              "        await google.colab.output.renderOutput(dataTable, element);\n",
              "        const docLink = document.createElement('div');\n",
              "        docLink.innerHTML = docLinkHtml;\n",
              "        element.appendChild(docLink);\n",
              "      }\n",
              "    </script>\n",
              "  </div>\n",
              "\n",
              "\n",
              "<div id=\"df-44e87c1e-acdc-48d8-ace4-f25023fa56ec\">\n",
              "  <button class=\"colab-df-quickchart\" onclick=\"quickchart('df-44e87c1e-acdc-48d8-ace4-f25023fa56ec')\"\n",
              "            title=\"Suggest charts\"\n",
              "            style=\"display:none;\">\n",
              "\n",
              "<svg xmlns=\"http://www.w3.org/2000/svg\" height=\"24px\"viewBox=\"0 0 24 24\"\n",
              "     width=\"24px\">\n",
              "    <g>\n",
              "        <path d=\"M19 3H5c-1.1 0-2 .9-2 2v14c0 1.1.9 2 2 2h14c1.1 0 2-.9 2-2V5c0-1.1-.9-2-2-2zM9 17H7v-7h2v7zm4 0h-2V7h2v10zm4 0h-2v-4h2v4z\"/>\n",
              "    </g>\n",
              "</svg>\n",
              "  </button>\n",
              "\n",
              "<style>\n",
              "  .colab-df-quickchart {\n",
              "      --bg-color: #E8F0FE;\n",
              "      --fill-color: #1967D2;\n",
              "      --hover-bg-color: #E2EBFA;\n",
              "      --hover-fill-color: #174EA6;\n",
              "      --disabled-fill-color: #AAA;\n",
              "      --disabled-bg-color: #DDD;\n",
              "  }\n",
              "\n",
              "  [theme=dark] .colab-df-quickchart {\n",
              "      --bg-color: #3B4455;\n",
              "      --fill-color: #D2E3FC;\n",
              "      --hover-bg-color: #434B5C;\n",
              "      --hover-fill-color: #FFFFFF;\n",
              "      --disabled-bg-color: #3B4455;\n",
              "      --disabled-fill-color: #666;\n",
              "  }\n",
              "\n",
              "  .colab-df-quickchart {\n",
              "    background-color: var(--bg-color);\n",
              "    border: none;\n",
              "    border-radius: 50%;\n",
              "    cursor: pointer;\n",
              "    display: none;\n",
              "    fill: var(--fill-color);\n",
              "    height: 32px;\n",
              "    padding: 0;\n",
              "    width: 32px;\n",
              "  }\n",
              "\n",
              "  .colab-df-quickchart:hover {\n",
              "    background-color: var(--hover-bg-color);\n",
              "    box-shadow: 0 1px 2px rgba(60, 64, 67, 0.3), 0 1px 3px 1px rgba(60, 64, 67, 0.15);\n",
              "    fill: var(--button-hover-fill-color);\n",
              "  }\n",
              "\n",
              "  .colab-df-quickchart-complete:disabled,\n",
              "  .colab-df-quickchart-complete:disabled:hover {\n",
              "    background-color: var(--disabled-bg-color);\n",
              "    fill: var(--disabled-fill-color);\n",
              "    box-shadow: none;\n",
              "  }\n",
              "\n",
              "  .colab-df-spinner {\n",
              "    border: 2px solid var(--fill-color);\n",
              "    border-color: transparent;\n",
              "    border-bottom-color: var(--fill-color);\n",
              "    animation:\n",
              "      spin 1s steps(1) infinite;\n",
              "  }\n",
              "\n",
              "  @keyframes spin {\n",
              "    0% {\n",
              "      border-color: transparent;\n",
              "      border-bottom-color: var(--fill-color);\n",
              "      border-left-color: var(--fill-color);\n",
              "    }\n",
              "    20% {\n",
              "      border-color: transparent;\n",
              "      border-left-color: var(--fill-color);\n",
              "      border-top-color: var(--fill-color);\n",
              "    }\n",
              "    30% {\n",
              "      border-color: transparent;\n",
              "      border-left-color: var(--fill-color);\n",
              "      border-top-color: var(--fill-color);\n",
              "      border-right-color: var(--fill-color);\n",
              "    }\n",
              "    40% {\n",
              "      border-color: transparent;\n",
              "      border-right-color: var(--fill-color);\n",
              "      border-top-color: var(--fill-color);\n",
              "    }\n",
              "    60% {\n",
              "      border-color: transparent;\n",
              "      border-right-color: var(--fill-color);\n",
              "    }\n",
              "    80% {\n",
              "      border-color: transparent;\n",
              "      border-right-color: var(--fill-color);\n",
              "      border-bottom-color: var(--fill-color);\n",
              "    }\n",
              "    90% {\n",
              "      border-color: transparent;\n",
              "      border-bottom-color: var(--fill-color);\n",
              "    }\n",
              "  }\n",
              "</style>\n",
              "\n",
              "  <script>\n",
              "    async function quickchart(key) {\n",
              "      const quickchartButtonEl =\n",
              "        document.querySelector('#' + key + ' button');\n",
              "      quickchartButtonEl.disabled = true;  // To prevent multiple clicks.\n",
              "      quickchartButtonEl.classList.add('colab-df-spinner');\n",
              "      try {\n",
              "        const charts = await google.colab.kernel.invokeFunction(\n",
              "            'suggestCharts', [key], {});\n",
              "      } catch (error) {\n",
              "        console.error('Error during call to suggestCharts:', error);\n",
              "      }\n",
              "      quickchartButtonEl.classList.remove('colab-df-spinner');\n",
              "      quickchartButtonEl.classList.add('colab-df-quickchart-complete');\n",
              "    }\n",
              "    (() => {\n",
              "      let quickchartButtonEl =\n",
              "        document.querySelector('#df-44e87c1e-acdc-48d8-ace4-f25023fa56ec button');\n",
              "      quickchartButtonEl.style.display =\n",
              "        google.colab.kernel.accessAllowed ? 'block' : 'none';\n",
              "    })();\n",
              "  </script>\n",
              "</div>\n",
              "\n",
              "    </div>\n",
              "  </div>\n"
            ]
          },
          "metadata": {},
          "execution_count": 1
        }
      ],
      "source": [
        "import os\n",
        "import random\n",
        "import numpy as np\n",
        "import yfinance as yf\n",
        "import pandas as pd\n",
        "from statsmodels.tsa.stattools import adfuller\n",
        "from statsmodels.regression.linear_model import OLS\n",
        "import statsmodels.api as sm\n",
        "from matplotlib import pyplot as plt\n",
        "%matplotlib inline\n",
        "SEED = 8\n",
        "random.seed(SEED)\n",
        "np.random.seed(SEED)\n",
        "# download data from yfinance\n",
        "stocks = ['GOOG','MSFT']\n",
        "start_date  = \"2022-01-01\"\n",
        "end_date  = \"2022-12-31\"\n",
        "df = yf.download(stocks, start=start_date, end=end_date)['Adj Close']\n",
        "df.head()"
      ]
    },
    {
      "cell_type": "code",
      "source": [
        "spread = np.log(df[stocks[0]]) - np.log(df[stocks[1]])\n",
        "plt.plot(spread, label='Spread using difference of log price')\n",
        "plt.legend()\n",
        "plt.show()"
      ],
      "metadata": {
        "colab": {
          "base_uri": "https://localhost:8080/",
          "height": 430
        },
        "id": "9JLeMZohvmbS",
        "outputId": "0ad8ba15-1af9-4028-d508-2bafb33eaab5"
      },
      "execution_count": null,
      "outputs": [
        {
          "output_type": "display_data",
          "data": {
            "text/plain": [
              "<Figure size 640x480 with 1 Axes>"
            ],
            "image/png": "[encoded data removed]"
          },
          "metadata": {}
        }
      ]
    },
    {
      "cell_type": "code",
      "source": [
        "# Define additional features\n",
        "asset1_returns = np.log(df[stocks[0]]).diff()\n",
        "asset2_returns = np.log(df[stocks[1]]).diff()\n",
        "spread_ma5 = spread.rolling(5).mean()\n",
        "asset1_volatility = asset1_returns.rolling(20).std()\n",
        "asset2_volatility = asset2_returns.rolling(20).std()"
      ],
      "metadata": {
        "id": "9kQcLV8vvsbP"
      },
      "execution_count": null,
      "outputs": []
    },
    {
      "cell_type": "code",
      "source": [
        "# Combine the features into a single DataFrame\n",
        "X = pd.DataFrame({'Asset1Returns': asset1_returns,\n",
        "                  'Asset2Returns': asset2_returns,\n",
        "                  'SpreadMA5': spread_ma5,\n",
        "                  'Asset1Volatility': asset1_volatility,\n",
        "                  'Asset2Volatility': asset2_volatility})\n",
        "X = X.fillna(0)\n",
        "y = spread"
      ],
      "metadata": {
        "id": "tlPsBzaivu_v"
      },
      "execution_count": null,
      "outputs": []
    },
    {
      "cell_type": "code",
      "source": [
        "# Split the data into training and test sets\n",
        "train_size = int(len(spread) * 0.8)\n",
        "train_X = X[:train_size]\n",
        "test_X = X[train_size:]\n",
        "train_y = y[:train_size]\n",
        "test_y = y[train_size:]"
      ],
      "metadata": {
        "id": "ldyr7z4Pvv7P"
      },
      "execution_count": null,
      "outputs": []
    },
    {
      "cell_type": "code",
      "source": [
        "from sklearn.svm import SVR\n",
        "from sklearn.metrics import mean_squared_error\n",
        "svm_model = SVR(kernel='linear')\n",
        "svm_model.fit(train_X, train_y)\n",
        "train_pred = svm_model.predict(train_X)\n",
        "print(\"training rmse: \", np.sqrt(mean_squared_error(train_y, train_pred)))\n",
        "test_pred = svm_model.predict(test_X)"
      ],
      "metadata": {
        "colab": {
          "base_uri": "https://localhost:8080/"
        },
        "id": "T7OZ2xQqvx2W",
        "outputId": "bed9e6b1-7896-4883-c527-afc72c7d64db"
      },
      "execution_count": null,
      "outputs": [
        {
          "output_type": "stream",
          "name": "stdout",
          "text": [
            "training rmse:  0.03961603291427798\n"
          ]
        }
      ]
    },
    {
      "cell_type": "code",
      "source": [
        "import torch\n",
        "def score_fn(model, type=\"non_neural_net\"):\n",
        "    # Generate predicted spread using the SVM model\n",
        "    if type == \"non_neural_net\":\n",
        "        test_pred = model.predict(test_X)\n",
        "    else:\n",
        "        test_pred = model(torch.Tensor(test_X.values)).detach().numpy()\n",
        "    # Calculate z-score of the actual and predicted spread\n",
        "    zscore = (spread - test_pred.mean()) / test_pred.std()\n",
        "    # set the threshold values for entry and exit signals\n",
        "    entry_threshold = 2.0\n",
        "    exit_threshold = 1.0\n",
        "    # initialize the daily positions to be zeros\n",
        "    stock1_position = pd.Series(data=0, index=zscore.index)\n",
        "    stock2_position = pd.Series(data=0, index=zscore.index)\n",
        "    # generate daily entry and exit signals for each stock\n",
        "\n",
        "    for i in range(1, len(zscore)):\n",
        "        # zscore<-2 and no existing long position for stock 1\n",
        "        if zscore[i] < -entry_threshold and stock1_position[i-1] == 0:\n",
        "            stock1_position[i] = 1 # long stock 1\n",
        "            stock2_position[i] = -1 # short stock 2\n",
        "        # zscore>2 and no existing short position for stock 2\n",
        "        elif zscore[i] > entry_threshold and stock2_position[i-1] == 0:\n",
        "            stock1_position[i] = -1 # short stock 1\n",
        "            stock2_position[i] = 1 # long stock 2\n",
        "        # -1<zscore<1\n",
        "        elif abs(zscore[i]) < exit_threshold:\n",
        "            stock1_position[i] = 0 # exit existing position\n",
        "            stock2_position[i] = 0\n",
        "        # -2<zscore<-1 or 1<zscore<2\n",
        "        else:\n",
        "            stock1_position[i] = stock1_position[i-1] # maintain existing position\n",
        "            stock2_position[i] = stock2_position[i-1]\n",
        "    # Calculate the returns of each stock\n",
        "    stock1_returns = (np.exp(test_X['Asset1Returns']) * stock1_position.shift(1)).fillna(0)\n",
        "    stock2_returns = (np.exp(test_X['Asset2Returns']) * stock2_position.shift(1)).fillna(0)\n",
        "    # calculate the total returns of the strategy\n",
        "    total_returns = stock1_returns + stock2_returns\n",
        "    cumulative_returns = (1 + total_returns).cumprod()\n",
        "    return cumulative_returns[-1]"
      ],
      "metadata": {
        "id": "UlG0WDihwC-0"
      },
      "execution_count": null,
      "outputs": []
    },
    {
      "cell_type": "code",
      "source": [
        "score_fn(svm_model)"
      ],
      "metadata": {
        "colab": {
          "base_uri": "https://localhost:8080/"
        },
        "id": "14Ex4X35wEBy",
        "outputId": "cde9feb8-b316-40db-a3d3-e4dedf9163ee"
      },
      "execution_count": null,
      "outputs": [
        {
          "output_type": "execute_result",
          "data": {
            "text/plain": [
              "1.1437468701707865"
            ]
          },
          "metadata": {},
          "execution_count": 33
        }
      ]
    },
    {
      "cell_type": "code",
      "source": [
        "# random forest\n",
        "from sklearn.ensemble import RandomForestRegressor\n",
        "# Create random forest regressor\n",
        "rf_model = RandomForestRegressor(n_estimators=100, random_state=42)\n",
        "# Train the model on the training and test set\n",
        "rf_model.fit(train_X, train_y)\n",
        "train_pred = rf_model.predict(train_X)"
      ],
      "metadata": {
        "id": "nqk7H5fzXlH7"
      },
      "execution_count": null,
      "outputs": []
    },
    {
      "cell_type": "code",
      "source": [
        "print(\"training rmse: \", np.sqrt(mean_squared_error(train_y, train_pred)))"
      ],
      "metadata": {
        "colab": {
          "base_uri": "https://localhost:8080/"
        },
        "id": "LD5EswYAXwqO",
        "outputId": "8a96bb03-0caa-467e-d377-86ca5c0275fb"
      },
      "execution_count": null,
      "outputs": [
        {
          "output_type": "stream",
          "name": "stdout",
          "text": [
            "training rmse:  0.00562669508299927\n"
          ]
        }
      ]
    },
    {
      "cell_type": "code",
      "source": [
        "test_pred = rf_model.predict(test_X)"
      ],
      "metadata": {
        "id": "WOeXwP6OXy-x"
      },
      "execution_count": null,
      "outputs": []
    },
    {
      "cell_type": "code",
      "source": [
        "print(\"test rmse: \", np.sqrt(mean_squared_error(test_y, test_pred)))"
      ],
      "metadata": {
        "colab": {
          "base_uri": "https://localhost:8080/"
        },
        "id": "DtB0cOFiX3ju",
        "outputId": "5b83008e-5374-4dc0-c30e-57e0b1316142"
      },
      "execution_count": null,
      "outputs": [
        {
          "output_type": "stream",
          "name": "stdout",
          "text": [
            "test rmse:  0.07339128155386529\n"
          ]
        }
      ]
    },
    {
      "cell_type": "code",
      "source": [
        "score_fn(rf_model)"
      ],
      "metadata": {
        "colab": {
          "base_uri": "https://localhost:8080/"
        },
        "id": "sEkPv0FSYUm1",
        "outputId": "b739401e-f3b9-45bf-e55a-2bd231dfebfe"
      },
      "execution_count": null,
      "outputs": [
        {
          "output_type": "execute_result",
          "data": {
            "text/plain": [
              "0.9129383490959507"
            ]
          },
          "metadata": {},
          "execution_count": 40
        }
      ]
    }
  ]
}